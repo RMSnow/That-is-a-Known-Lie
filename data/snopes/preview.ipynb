{
 "cells": [
  {
   "cell_type": "code",
   "execution_count": 6,
   "metadata": {
    "collapsed": true
   },
   "outputs": [],
   "source": [
    "import pandas as pd\n",
    "pd.set_option('display.max_colwidth', 500)"
   ]
  },
  {
   "cell_type": "code",
   "execution_count": 2,
   "metadata": {},
   "outputs": [
    {
     "data": {
      "text/plain": [
       "10381"
      ]
     },
     "execution_count": 2,
     "metadata": {},
     "output_type": "execute_result"
    }
   ],
   "source": [
    "verified_df = pd.read_table('./verified-claims.tsv')\n",
    "len(verified_df)"
   ]
  },
  {
   "cell_type": "code",
   "execution_count": 3,
   "metadata": {},
   "outputs": [
    {
     "data": {
      "text/html": [
       "<div>\n",
       "<style scoped>\n",
       "    .dataframe tbody tr th:only-of-type {\n",
       "        vertical-align: middle;\n",
       "    }\n",
       "\n",
       "    .dataframe tbody tr th {\n",
       "        vertical-align: top;\n",
       "    }\n",
       "\n",
       "    .dataframe thead th {\n",
       "        text-align: right;\n",
       "    }\n",
       "</style>\n",
       "<table border=\"1\" class=\"dataframe\">\n",
       "  <thead>\n",
       "    <tr style=\"text-align: right;\">\n",
       "      <th></th>\n",
       "      <th>title</th>\n",
       "      <th>fact</th>\n",
       "    </tr>\n",
       "  </thead>\n",
       "  <tbody>\n",
       "    <tr>\n",
       "      <th>0</th>\n",
       "      <td>#-9-0 Phone Scam</td>\n",
       "      <td>Pressing #-9-0 on your telephone will allow scammers to make long-distance calls and charge them to  your phone bill.</td>\n",
       "    </tr>\n",
       "    <tr>\n",
       "      <th>1</th>\n",
       "      <td>#Boycott36: Do Clinton and Sanders Support Late-Term Abortions?</td>\n",
       "      <td>Bernie Sanders and Hillary Clinton both seek an abortion 'cutoff date' of 36 weeks, and both claim that late-stage fetuses feel no pain and have no rights.</td>\n",
       "    </tr>\n",
       "    <tr>\n",
       "      <th>2</th>\n",
       "      <td>$1 McDonald's Any Size Fries</td>\n",
       "      <td>McDonald’s restaurants are offering $1 Any Size Fries between May 18 and 31.</td>\n",
       "    </tr>\n",
       "    <tr>\n",
       "      <th>3</th>\n",
       "      <td>$1 Real Chicken Deal Boston Market Coupon</td>\n",
       "      <td>Boston Market is offering coupons good for a $1 chicken meal.</td>\n",
       "    </tr>\n",
       "    <tr>\n",
       "      <th>4</th>\n",
       "      <td>$10 Bill Printing Error</td>\n",
       "      <td>New U.S. $10 bills released in 2006 contain a printing error.</td>\n",
       "    </tr>\n",
       "  </tbody>\n",
       "</table>\n",
       "</div>"
      ],
      "text/plain": [
       "                                                             title  \\\n",
       "0                                                 #-9-0 Phone Scam   \n",
       "1  #Boycott36: Do Clinton and Sanders Support Late-Term Abortions?   \n",
       "2                                     $1 McDonald's Any Size Fries   \n",
       "3                        $1 Real Chicken Deal Boston Market Coupon   \n",
       "4                                          $10 Bill Printing Error   \n",
       "\n",
       "                                                                                                                                                          fact  \n",
       "0                                        Pressing #-9-0 on your telephone will allow scammers to make long-distance calls and charge them to  your phone bill.  \n",
       "1  Bernie Sanders and Hillary Clinton both seek an abortion 'cutoff date' of 36 weeks, and both claim that late-stage fetuses feel no pain and have no rights.  \n",
       "2                                                                                 McDonald’s restaurants are offering $1 Any Size Fries between May 18 and 31.  \n",
       "3                                                                                                Boston Market is offering coupons good for a $1 chicken meal.  \n",
       "4                                                                                                New U.S. $10 bills released in 2006 contain a printing error.  "
      ]
     },
     "execution_count": 3,
     "metadata": {},
     "output_type": "execute_result"
    }
   ],
   "source": [
    "verified_df.head()"
   ]
  },
  {
   "cell_type": "code",
   "execution_count": 4,
   "metadata": {},
   "outputs": [
    {
     "data": {
      "text/plain": [
       "999"
      ]
     },
     "execution_count": 4,
     "metadata": {},
     "output_type": "execute_result"
    }
   ],
   "source": [
    "pairs_df = pd.read_table('./fact-checking/tweet-veclaim-pairs.tsv')\n",
    "len(pairs_df)"
   ]
  },
  {
   "cell_type": "code",
   "execution_count": 7,
   "metadata": {},
   "outputs": [
    {
     "data": {
      "text/html": [
       "<div>\n",
       "<style scoped>\n",
       "    .dataframe tbody tr th:only-of-type {\n",
       "        vertical-align: middle;\n",
       "    }\n",
       "\n",
       "    .dataframe tbody tr th {\n",
       "        vertical-align: top;\n",
       "    }\n",
       "\n",
       "    .dataframe thead th {\n",
       "        text-align: right;\n",
       "    }\n",
       "</style>\n",
       "<table border=\"1\" class=\"dataframe\">\n",
       "  <thead>\n",
       "    <tr style=\"text-align: right;\">\n",
       "      <th></th>\n",
       "      <th>claim</th>\n",
       "      <th>fact</th>\n",
       "    </tr>\n",
       "  </thead>\n",
       "  <tbody>\n",
       "    <tr>\n",
       "      <th>0</th>\n",
       "      <td>How are butterflies surviving the #AustralianFires? Julie Favell was putting out water for wildlife that survived the fires when she witnessed common brown butterflies (Heteronympha merope) fluttering in a moist wombat hole. Footage by Julie Favell pic.twitter.com/0eJtwJyS1J — Center for Bio Div (@CenterForBioDiv) January 14, 2020</td>\n",
       "      <td>Wombats are herding animals and inviting them into their burrows in order to escape the wildfires in Australia.</td>\n",
       "    </tr>\n",
       "    <tr>\n",
       "      <th>1</th>\n",
       "      <td>Trump needs to immediately divest from his businesses and comply with the emoluments clause. Iran could threaten Trump hotels *worldwide* and he could provoke war over the loss of revenue from skittish guests.  His business interests should not be driving military decisions. — Ilhan Omar (@IlhanMN) January 6, 2020</td>\n",
       "      <td>In January 2020, U.S. Rep. Ilhan Omar advised Iran to attack Trump-branded hotels in the world, thus committing treason.</td>\n",
       "    </tr>\n",
       "    <tr>\n",
       "      <th>2</th>\n",
       "      <td>A number of fraudulent text messages informing individuals they have been selected for a military draft have circulated throughout the country this week.</td>\n",
       "      <td>The U.S. Army is sending text messages informing people they've been selected for the military draft.</td>\n",
       "    </tr>\n",
       "    <tr>\n",
       "      <th>3</th>\n",
       "      <td>Fact check: The U.S. Army is NOT contacting anyone regarding the draft. If you are receiving texts, phone calls or direct messages about a military draft, they are not official communications from the U.S. Army pic.twitter.com/3S32De8ekP — U.S. Army CGSC (@USACGSC) January 8, 2020</td>\n",
       "      <td>The U.S. Army is sending text messages informing people they've been selected for the military draft.</td>\n",
       "    </tr>\n",
       "    <tr>\n",
       "      <th>4</th>\n",
       "      <td>The US drone attack on #Soleimani caught on camera.#IranUsapic.twitter.com/TvRkHvlgby — Olaudah Equiano® (@RealOlaudah) January 6, 2020</td>\n",
       "      <td>A video shows the U.S.-ordered drone strike that killed Iran Gen. Qassem Soleimani.</td>\n",
       "    </tr>\n",
       "  </tbody>\n",
       "</table>\n",
       "</div>"
      ],
      "text/plain": [
       "                                                                                                                                                                                                                                                                                                                                          claim  \\\n",
       "0  How are butterflies surviving the #AustralianFires? Julie Favell was putting out water for wildlife that survived the fires when she witnessed common brown butterflies (Heteronympha merope) fluttering in a moist wombat hole. Footage by Julie Favell pic.twitter.com/0eJtwJyS1J — Center for Bio Div (@CenterForBioDiv) January 14, 2020   \n",
       "1                   Trump needs to immediately divest from his businesses and comply with the emoluments clause. Iran could threaten Trump hotels *worldwide* and he could provoke war over the loss of revenue from skittish guests.  His business interests should not be driving military decisions. — Ilhan Omar (@IlhanMN) January 6, 2020   \n",
       "2                                                                                                                                                                                     A number of fraudulent text messages informing individuals they have been selected for a military draft have circulated throughout the country this week.   \n",
       "3                                                     Fact check: The U.S. Army is NOT contacting anyone regarding the draft. If you are receiving texts, phone calls or direct messages about a military draft, they are not official communications from the U.S. Army pic.twitter.com/3S32De8ekP — U.S. Army CGSC (@USACGSC) January 8, 2020   \n",
       "4                                                                                                                                                                                                       The US drone attack on #Soleimani caught on camera.#IranUsapic.twitter.com/TvRkHvlgby — Olaudah Equiano® (@RealOlaudah) January 6, 2020   \n",
       "\n",
       "                                                                                                                       fact  \n",
       "0           Wombats are herding animals and inviting them into their burrows in order to escape the wildfires in Australia.  \n",
       "1  In January 2020, U.S. Rep. Ilhan Omar advised Iran to attack Trump-branded hotels in the world, thus committing treason.  \n",
       "2                     The U.S. Army is sending text messages informing people they've been selected for the military draft.  \n",
       "3                     The U.S. Army is sending text messages informing people they've been selected for the military draft.  \n",
       "4                                       A video shows the U.S.-ordered drone strike that killed Iran Gen. Qassem Soleimani.  "
      ]
     },
     "execution_count": 7,
     "metadata": {},
     "output_type": "execute_result"
    }
   ],
   "source": [
    "pairs_df.head()"
   ]
  },
  {
   "cell_type": "code",
   "execution_count": 12,
   "metadata": {},
   "outputs": [
    {
     "data": {
      "text/plain": [
       "(10381, 999)"
      ]
     },
     "execution_count": 12,
     "metadata": {},
     "output_type": "execute_result"
    }
   ],
   "source": [
    "verified_facts = verified_df['fact'].tolist()\n",
    "pairs_facts = pairs_df['fact'].tolist()\n",
    "\n",
    "len(verified_facts), len(pairs_facts)"
   ]
  },
  {
   "cell_type": "code",
   "execution_count": 15,
   "metadata": {
    "collapsed": true
   },
   "outputs": [],
   "source": [
    "for fact in pairs_facts:\n",
    "    assert fact in verified_facts"
   ]
  },
  {
   "cell_type": "code",
   "execution_count": null,
   "metadata": {
    "collapsed": true
   },
   "outputs": [],
   "source": []
  }
 ],
 "metadata": {
  "kernelspec": {
   "display_name": "Python 3",
   "language": "python",
   "name": "python3"
  },
  "language_info": {
   "codemirror_mode": {
    "name": "ipython",
    "version": 3
   },
   "file_extension": ".py",
   "mimetype": "text/x-python",
   "name": "python",
   "nbconvert_exporter": "python",
   "pygments_lexer": "ipython3",
   "version": "3.7.4"
  },
  "toc": {
   "base_numbering": 1,
   "nav_menu": {},
   "number_sections": true,
   "sideBar": true,
   "skip_h1_title": false,
   "title_cell": "Table of Contents",
   "title_sidebar": "Contents",
   "toc_cell": false,
   "toc_position": {},
   "toc_section_display": true,
   "toc_window_display": false
  }
 },
 "nbformat": 4,
 "nbformat_minor": 2
}
