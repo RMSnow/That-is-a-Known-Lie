{
 "cells": [
  {
   "cell_type": "markdown",
   "metadata": {},
   "source": [
    "# 数据预处理"
   ]
  },
  {
   "cell_type": "code",
   "execution_count": 2,
   "metadata": {
    "ExecuteTime": {
     "end_time": "2020-08-27T03:25:13.128317Z",
     "start_time": "2020-08-27T03:25:13.123287Z"
    }
   },
   "outputs": [],
   "source": [
    "import pandas as pd\n",
    "import json\n",
    "pd.set_option('display.max_colwidth', 500)"
   ]
  },
  {
   "cell_type": "code",
   "execution_count": 3,
   "metadata": {
    "ExecuteTime": {
     "end_time": "2020-08-27T03:25:14.661006Z",
     "start_time": "2020-08-27T03:25:14.619303Z"
    }
   },
   "outputs": [
    {
     "data": {
      "text/plain": [
       "(10381, 999)"
      ]
     },
     "execution_count": 3,
     "metadata": {},
     "output_type": "execute_result"
    }
   ],
   "source": [
    "verified_df = pd.read_table('../data/snopes/verified-claims.tsv')\n",
    "query_df = pd.read_table(\n",
    "    '../data/snopes/fact-checking/tweet-veclaim-pairs.tsv')\n",
    "len(verified_df), len(query_df)"
   ]
  },
  {
   "cell_type": "code",
   "execution_count": 4,
   "metadata": {
    "ExecuteTime": {
     "end_time": "2020-08-27T03:25:15.451754Z",
     "start_time": "2020-08-27T03:25:15.437589Z"
    }
   },
   "outputs": [
    {
     "data": {
      "text/html": [
       "<div>\n",
       "<style scoped>\n",
       "    .dataframe tbody tr th:only-of-type {\n",
       "        vertical-align: middle;\n",
       "    }\n",
       "\n",
       "    .dataframe tbody tr th {\n",
       "        vertical-align: top;\n",
       "    }\n",
       "\n",
       "    .dataframe thead th {\n",
       "        text-align: right;\n",
       "    }\n",
       "</style>\n",
       "<table border=\"1\" class=\"dataframe\">\n",
       "  <thead>\n",
       "    <tr style=\"text-align: right;\">\n",
       "      <th></th>\n",
       "      <th>title</th>\n",
       "      <th>fact</th>\n",
       "    </tr>\n",
       "  </thead>\n",
       "  <tbody>\n",
       "    <tr>\n",
       "      <th>0</th>\n",
       "      <td>#-9-0 Phone Scam</td>\n",
       "      <td>Pressing #-9-0 on your telephone will allow scammers to make long-distance calls and charge them to  your phone bill.</td>\n",
       "    </tr>\n",
       "    <tr>\n",
       "      <th>1</th>\n",
       "      <td>#Boycott36: Do Clinton and Sanders Support Late-Term Abortions?</td>\n",
       "      <td>Bernie Sanders and Hillary Clinton both seek an abortion 'cutoff date' of 36 weeks, and both claim that late-stage fetuses feel no pain and have no rights.</td>\n",
       "    </tr>\n",
       "    <tr>\n",
       "      <th>2</th>\n",
       "      <td>$1 McDonald's Any Size Fries</td>\n",
       "      <td>McDonald’s restaurants are offering $1 Any Size Fries between May 18 and 31.</td>\n",
       "    </tr>\n",
       "    <tr>\n",
       "      <th>3</th>\n",
       "      <td>$1 Real Chicken Deal Boston Market Coupon</td>\n",
       "      <td>Boston Market is offering coupons good for a $1 chicken meal.</td>\n",
       "    </tr>\n",
       "    <tr>\n",
       "      <th>4</th>\n",
       "      <td>$10 Bill Printing Error</td>\n",
       "      <td>New U.S. $10 bills released in 2006 contain a printing error.</td>\n",
       "    </tr>\n",
       "  </tbody>\n",
       "</table>\n",
       "</div>"
      ],
      "text/plain": [
       "                                                             title  \\\n",
       "0                                                 #-9-0 Phone Scam   \n",
       "1  #Boycott36: Do Clinton and Sanders Support Late-Term Abortions?   \n",
       "2                                     $1 McDonald's Any Size Fries   \n",
       "3                        $1 Real Chicken Deal Boston Market Coupon   \n",
       "4                                          $10 Bill Printing Error   \n",
       "\n",
       "                                                                                                                                                          fact  \n",
       "0                                        Pressing #-9-0 on your telephone will allow scammers to make long-distance calls and charge them to  your phone bill.  \n",
       "1  Bernie Sanders and Hillary Clinton both seek an abortion 'cutoff date' of 36 weeks, and both claim that late-stage fetuses feel no pain and have no rights.  \n",
       "2                                                                                 McDonald’s restaurants are offering $1 Any Size Fries between May 18 and 31.  \n",
       "3                                                                                                Boston Market is offering coupons good for a $1 chicken meal.  \n",
       "4                                                                                                New U.S. $10 bills released in 2006 contain a printing error.  "
      ]
     },
     "execution_count": 4,
     "metadata": {},
     "output_type": "execute_result"
    }
   ],
   "source": [
    "verified_df.head()"
   ]
  },
  {
   "cell_type": "code",
   "execution_count": 5,
   "metadata": {
    "ExecuteTime": {
     "end_time": "2020-08-27T03:25:16.480955Z",
     "start_time": "2020-08-27T03:25:16.468777Z"
    }
   },
   "outputs": [
    {
     "data": {
      "text/html": [
       "<div>\n",
       "<style scoped>\n",
       "    .dataframe tbody tr th:only-of-type {\n",
       "        vertical-align: middle;\n",
       "    }\n",
       "\n",
       "    .dataframe tbody tr th {\n",
       "        vertical-align: top;\n",
       "    }\n",
       "\n",
       "    .dataframe thead th {\n",
       "        text-align: right;\n",
       "    }\n",
       "</style>\n",
       "<table border=\"1\" class=\"dataframe\">\n",
       "  <thead>\n",
       "    <tr style=\"text-align: right;\">\n",
       "      <th></th>\n",
       "      <th>claim</th>\n",
       "      <th>fact</th>\n",
       "    </tr>\n",
       "  </thead>\n",
       "  <tbody>\n",
       "    <tr>\n",
       "      <th>0</th>\n",
       "      <td>How are butterflies surviving the #AustralianFires? Julie Favell was putting out water for wildlife that survived the fires when she witnessed common brown butterflies (Heteronympha merope) fluttering in a moist wombat hole. Footage by Julie Favell pic.twitter.com/0eJtwJyS1J — Center for Bio Div (@CenterForBioDiv) January 14, 2020</td>\n",
       "      <td>Wombats are herding animals and inviting them into their burrows in order to escape the wildfires in Australia.</td>\n",
       "    </tr>\n",
       "    <tr>\n",
       "      <th>1</th>\n",
       "      <td>Trump needs to immediately divest from his businesses and comply with the emoluments clause. Iran could threaten Trump hotels *worldwide* and he could provoke war over the loss of revenue from skittish guests.  His business interests should not be driving military decisions. — Ilhan Omar (@IlhanMN) January 6, 2020</td>\n",
       "      <td>In January 2020, U.S. Rep. Ilhan Omar advised Iran to attack Trump-branded hotels in the world, thus committing treason.</td>\n",
       "    </tr>\n",
       "    <tr>\n",
       "      <th>2</th>\n",
       "      <td>A number of fraudulent text messages informing individuals they have been selected for a military draft have circulated throughout the country this week.</td>\n",
       "      <td>The U.S. Army is sending text messages informing people they've been selected for the military draft.</td>\n",
       "    </tr>\n",
       "    <tr>\n",
       "      <th>3</th>\n",
       "      <td>Fact check: The U.S. Army is NOT contacting anyone regarding the draft. If you are receiving texts, phone calls or direct messages about a military draft, they are not official communications from the U.S. Army pic.twitter.com/3S32De8ekP — U.S. Army CGSC (@USACGSC) January 8, 2020</td>\n",
       "      <td>The U.S. Army is sending text messages informing people they've been selected for the military draft.</td>\n",
       "    </tr>\n",
       "    <tr>\n",
       "      <th>4</th>\n",
       "      <td>The US drone attack on #Soleimani caught on camera.#IranUsapic.twitter.com/TvRkHvlgby — Olaudah Equiano® (@RealOlaudah) January 6, 2020</td>\n",
       "      <td>A video shows the U.S.-ordered drone strike that killed Iran Gen. Qassem Soleimani.</td>\n",
       "    </tr>\n",
       "  </tbody>\n",
       "</table>\n",
       "</div>"
      ],
      "text/plain": [
       "                                                                                                                                                                                                                                                                                                                                          claim  \\\n",
       "0  How are butterflies surviving the #AustralianFires? Julie Favell was putting out water for wildlife that survived the fires when she witnessed common brown butterflies (Heteronympha merope) fluttering in a moist wombat hole. Footage by Julie Favell pic.twitter.com/0eJtwJyS1J — Center for Bio Div (@CenterForBioDiv) January 14, 2020   \n",
       "1                   Trump needs to immediately divest from his businesses and comply with the emoluments clause. Iran could threaten Trump hotels *worldwide* and he could provoke war over the loss of revenue from skittish guests.  His business interests should not be driving military decisions. — Ilhan Omar (@IlhanMN) January 6, 2020   \n",
       "2                                                                                                                                                                                     A number of fraudulent text messages informing individuals they have been selected for a military draft have circulated throughout the country this week.   \n",
       "3                                                     Fact check: The U.S. Army is NOT contacting anyone regarding the draft. If you are receiving texts, phone calls or direct messages about a military draft, they are not official communications from the U.S. Army pic.twitter.com/3S32De8ekP — U.S. Army CGSC (@USACGSC) January 8, 2020   \n",
       "4                                                                                                                                                                                                       The US drone attack on #Soleimani caught on camera.#IranUsapic.twitter.com/TvRkHvlgby — Olaudah Equiano® (@RealOlaudah) January 6, 2020   \n",
       "\n",
       "                                                                                                                       fact  \n",
       "0           Wombats are herding animals and inviting them into their burrows in order to escape the wildfires in Australia.  \n",
       "1  In January 2020, U.S. Rep. Ilhan Omar advised Iran to attack Trump-branded hotels in the world, thus committing treason.  \n",
       "2                     The U.S. Army is sending text messages informing people they've been selected for the military draft.  \n",
       "3                     The U.S. Army is sending text messages informing people they've been selected for the military draft.  \n",
       "4                                       A video shows the U.S.-ordered drone strike that killed Iran Gen. Qassem Soleimani.  "
      ]
     },
     "execution_count": 5,
     "metadata": {},
     "output_type": "execute_result"
    }
   ],
   "source": [
    "query_df.head()"
   ]
  },
  {
   "cell_type": "markdown",
   "metadata": {},
   "source": [
    "## 英文分词"
   ]
  },
  {
   "cell_type": "code",
   "execution_count": 6,
   "metadata": {
    "ExecuteTime": {
     "end_time": "2020-08-27T03:25:20.238383Z",
     "start_time": "2020-08-27T03:25:19.880517Z"
    }
   },
   "outputs": [],
   "source": [
    "import re\n",
    "import nltk\n",
    "\n",
    "\n",
    "def del_url_at(text):\n",
    "    pattern = re.compile(\n",
    "        'http[s]?://(?:[a-zA-Z]|[0-9]|[$-_@.&+]|[!*\\(\\),]|(?:%[0-9a-fA-F][0-9a-fA-F]))+')\n",
    "    urls = re.findall(pattern, text)\n",
    "    for url in urls:\n",
    "        text = text.replace(url, '')\n",
    "\n",
    "    pattern = re.compile(\n",
    "        '@(?:[a-zA-Z]|[0-9]|[$-_@.&+]|[!*\\(\\),]|(?:%[0-9a-fA-F][0-9a-fA-F]))+')\n",
    "    ats = re.findall(pattern, text)\n",
    "    for at in ats:\n",
    "        text = text.replace(at, '')\n",
    "\n",
    "    text = text.replace('\\n', '').replace('\\r', '').replace('\\t', '')\n",
    "    return text\n",
    "\n",
    "\n",
    "def cut_words(text):\n",
    "    pattern = r\"\"\"(?x)                   # set flag to allow verbose regexps \n",
    "                  (?:[A-Z]\\.)+           # abbreviations, e.g. U.S.A. \n",
    "                  |\\d+(?:\\.\\d+)?%?       # numbers, incl. currency and percentages \n",
    "                  |\\w+(?:[-']\\w+)*       # words w/ optional internal hyphens/apostrophe \n",
    "                  |\\.\\.\\.                # ellipsis \n",
    "                  |(?:[.,;\"'?():-_`!])    # special characters with meanings \n",
    "                \"\"\"\n",
    "\n",
    "    return nltk.regexp_tokenize(del_url_at(text), pattern)"
   ]
  },
  {
   "cell_type": "code",
   "execution_count": 7,
   "metadata": {
    "ExecuteTime": {
     "end_time": "2020-08-27T03:25:29.804686Z",
     "start_time": "2020-08-27T03:25:29.760250Z"
    }
   },
   "outputs": [],
   "source": [
    "query_claims = query_df['claim'].tolist()\n",
    "query_claims_cut = [cut_words(t) for t in query_claims]\n",
    "query_df['claim_words'] = query_claims_cut"
   ]
  },
  {
   "cell_type": "code",
   "execution_count": 8,
   "metadata": {
    "ExecuteTime": {
     "end_time": "2020-08-27T03:25:30.354430Z",
     "start_time": "2020-08-27T03:25:30.333480Z"
    }
   },
   "outputs": [
    {
     "data": {
      "text/html": [
       "<div>\n",
       "<style scoped>\n",
       "    .dataframe tbody tr th:only-of-type {\n",
       "        vertical-align: middle;\n",
       "    }\n",
       "\n",
       "    .dataframe tbody tr th {\n",
       "        vertical-align: top;\n",
       "    }\n",
       "\n",
       "    .dataframe thead th {\n",
       "        text-align: right;\n",
       "    }\n",
       "</style>\n",
       "<table border=\"1\" class=\"dataframe\">\n",
       "  <thead>\n",
       "    <tr style=\"text-align: right;\">\n",
       "      <th></th>\n",
       "      <th>claim</th>\n",
       "      <th>fact</th>\n",
       "      <th>claim_words</th>\n",
       "    </tr>\n",
       "  </thead>\n",
       "  <tbody>\n",
       "    <tr>\n",
       "      <th>0</th>\n",
       "      <td>How are butterflies surviving the #AustralianFires? Julie Favell was putting out water for wildlife that survived the fires when she witnessed common brown butterflies (Heteronympha merope) fluttering in a moist wombat hole. Footage by Julie Favell pic.twitter.com/0eJtwJyS1J — Center for Bio Div (@CenterForBioDiv) January 14, 2020</td>\n",
       "      <td>Wombats are herding animals and inviting them into their burrows in order to escape the wildfires in Australia.</td>\n",
       "      <td>[How, are, butterflies, surviving, the, AustralianFires, ?, Julie, Favell, was, putting, out, water, for, wildlife, that, survived, the, fires, when, she, witnessed, common, brown, butterflies, (, Heteronympha, merope, ), fluttering, in, a, moist, wombat, hole, ., Footage, by, Julie, Favell, pic, ., twitter, ., com, 0, eJtwJyS1J, Center, for, Bio, Div, (, January, 14, ,, 2020]</td>\n",
       "    </tr>\n",
       "    <tr>\n",
       "      <th>1</th>\n",
       "      <td>Trump needs to immediately divest from his businesses and comply with the emoluments clause. Iran could threaten Trump hotels *worldwide* and he could provoke war over the loss of revenue from skittish guests.  His business interests should not be driving military decisions. — Ilhan Omar (@IlhanMN) January 6, 2020</td>\n",
       "      <td>In January 2020, U.S. Rep. Ilhan Omar advised Iran to attack Trump-branded hotels in the world, thus committing treason.</td>\n",
       "      <td>[Trump, needs, to, immediately, divest, from, his, businesses, and, comply, with, the, emoluments, clause, ., Iran, could, threaten, Trump, hotels, worldwide, and, he, could, provoke, war, over, the, loss, of, revenue, from, skittish, guests, ., His, business, interests, should, not, be, driving, military, decisions, ., Ilhan, Omar, (, January, 6, ,, 2020]</td>\n",
       "    </tr>\n",
       "    <tr>\n",
       "      <th>2</th>\n",
       "      <td>A number of fraudulent text messages informing individuals they have been selected for a military draft have circulated throughout the country this week.</td>\n",
       "      <td>The U.S. Army is sending text messages informing people they've been selected for the military draft.</td>\n",
       "      <td>[A, number, of, fraudulent, text, messages, informing, individuals, they, have, been, selected, for, a, military, draft, have, circulated, throughout, the, country, this, week, .]</td>\n",
       "    </tr>\n",
       "    <tr>\n",
       "      <th>3</th>\n",
       "      <td>Fact check: The U.S. Army is NOT contacting anyone regarding the draft. If you are receiving texts, phone calls or direct messages about a military draft, they are not official communications from the U.S. Army pic.twitter.com/3S32De8ekP — U.S. Army CGSC (@USACGSC) January 8, 2020</td>\n",
       "      <td>The U.S. Army is sending text messages informing people they've been selected for the military draft.</td>\n",
       "      <td>[Fact, check, :, The, U.S., Army, is, NOT, contacting, anyone, regarding, the, draft, ., If, you, are, receiving, texts, ,, phone, calls, or, direct, messages, about, a, military, draft, ,, they, are, not, official, communications, from, the, U.S., Army, pic, ., twitter, ., com, 3, S32De8ekP, U.S., Army, CGSC, (, January, 8, ,, 2020]</td>\n",
       "    </tr>\n",
       "    <tr>\n",
       "      <th>4</th>\n",
       "      <td>The US drone attack on #Soleimani caught on camera.#IranUsapic.twitter.com/TvRkHvlgby — Olaudah Equiano® (@RealOlaudah) January 6, 2020</td>\n",
       "      <td>A video shows the U.S.-ordered drone strike that killed Iran Gen. Qassem Soleimani.</td>\n",
       "      <td>[The, US, drone, attack, on, Soleimani, caught, on, camera, ., IranUsapic, ., twitter, ., com, TvRkHvlgby, Olaudah, Equiano, (, January, 6, ,, 2020]</td>\n",
       "    </tr>\n",
       "  </tbody>\n",
       "</table>\n",
       "</div>"
      ],
      "text/plain": [
       "                                                                                                                                                                                                                                                                                                                                          claim  \\\n",
       "0  How are butterflies surviving the #AustralianFires? Julie Favell was putting out water for wildlife that survived the fires when she witnessed common brown butterflies (Heteronympha merope) fluttering in a moist wombat hole. Footage by Julie Favell pic.twitter.com/0eJtwJyS1J — Center for Bio Div (@CenterForBioDiv) January 14, 2020   \n",
       "1                   Trump needs to immediately divest from his businesses and comply with the emoluments clause. Iran could threaten Trump hotels *worldwide* and he could provoke war over the loss of revenue from skittish guests.  His business interests should not be driving military decisions. — Ilhan Omar (@IlhanMN) January 6, 2020   \n",
       "2                                                                                                                                                                                     A number of fraudulent text messages informing individuals they have been selected for a military draft have circulated throughout the country this week.   \n",
       "3                                                     Fact check: The U.S. Army is NOT contacting anyone regarding the draft. If you are receiving texts, phone calls or direct messages about a military draft, they are not official communications from the U.S. Army pic.twitter.com/3S32De8ekP — U.S. Army CGSC (@USACGSC) January 8, 2020   \n",
       "4                                                                                                                                                                                                       The US drone attack on #Soleimani caught on camera.#IranUsapic.twitter.com/TvRkHvlgby — Olaudah Equiano® (@RealOlaudah) January 6, 2020   \n",
       "\n",
       "                                                                                                                       fact  \\\n",
       "0           Wombats are herding animals and inviting them into their burrows in order to escape the wildfires in Australia.   \n",
       "1  In January 2020, U.S. Rep. Ilhan Omar advised Iran to attack Trump-branded hotels in the world, thus committing treason.   \n",
       "2                     The U.S. Army is sending text messages informing people they've been selected for the military draft.   \n",
       "3                     The U.S. Army is sending text messages informing people they've been selected for the military draft.   \n",
       "4                                       A video shows the U.S.-ordered drone strike that killed Iran Gen. Qassem Soleimani.   \n",
       "\n",
       "                                                                                                                                                                                                                                                                                                                                                                                   claim_words  \n",
       "0  [How, are, butterflies, surviving, the, AustralianFires, ?, Julie, Favell, was, putting, out, water, for, wildlife, that, survived, the, fires, when, she, witnessed, common, brown, butterflies, (, Heteronympha, merope, ), fluttering, in, a, moist, wombat, hole, ., Footage, by, Julie, Favell, pic, ., twitter, ., com, 0, eJtwJyS1J, Center, for, Bio, Div, (, January, 14, ,, 2020]  \n",
       "1                       [Trump, needs, to, immediately, divest, from, his, businesses, and, comply, with, the, emoluments, clause, ., Iran, could, threaten, Trump, hotels, worldwide, and, he, could, provoke, war, over, the, loss, of, revenue, from, skittish, guests, ., His, business, interests, should, not, be, driving, military, decisions, ., Ilhan, Omar, (, January, 6, ,, 2020]  \n",
       "2                                                                                                                                                                                                          [A, number, of, fraudulent, text, messages, informing, individuals, they, have, been, selected, for, a, military, draft, have, circulated, throughout, the, country, this, week, .]  \n",
       "3                                              [Fact, check, :, The, U.S., Army, is, NOT, contacting, anyone, regarding, the, draft, ., If, you, are, receiving, texts, ,, phone, calls, or, direct, messages, about, a, military, draft, ,, they, are, not, official, communications, from, the, U.S., Army, pic, ., twitter, ., com, 3, S32De8ekP, U.S., Army, CGSC, (, January, 8, ,, 2020]  \n",
       "4                                                                                                                                                                                                                                         [The, US, drone, attack, on, Soleimani, caught, on, camera, ., IranUsapic, ., twitter, ., com, TvRkHvlgby, Olaudah, Equiano, (, January, 6, ,, 2020]  "
      ]
     },
     "execution_count": 8,
     "metadata": {},
     "output_type": "execute_result"
    }
   ],
   "source": [
    "query_df.head()"
   ]
  },
  {
   "cell_type": "code",
   "execution_count": 9,
   "metadata": {
    "ExecuteTime": {
     "end_time": "2020-08-27T03:25:31.201713Z",
     "start_time": "2020-08-27T03:25:30.906681Z"
    }
   },
   "outputs": [],
   "source": [
    "verified_titles = verified_df['title'].tolist()\n",
    "verified_titles_cut = [cut_words(t) for t in verified_titles]\n",
    "verified_df['title_words'] = verified_titles_cut\n",
    "\n",
    "verified_facts = verified_df['fact'].tolist()\n",
    "verified_facts_cut = [cut_words(t) for t in verified_facts]\n",
    "verified_df['fact_words'] = verified_facts_cut"
   ]
  },
  {
   "cell_type": "code",
   "execution_count": 10,
   "metadata": {
    "ExecuteTime": {
     "end_time": "2020-08-27T03:25:31.538822Z",
     "start_time": "2020-08-27T03:25:31.516708Z"
    }
   },
   "outputs": [
    {
     "data": {
      "text/html": [
       "<div>\n",
       "<style scoped>\n",
       "    .dataframe tbody tr th:only-of-type {\n",
       "        vertical-align: middle;\n",
       "    }\n",
       "\n",
       "    .dataframe tbody tr th {\n",
       "        vertical-align: top;\n",
       "    }\n",
       "\n",
       "    .dataframe thead th {\n",
       "        text-align: right;\n",
       "    }\n",
       "</style>\n",
       "<table border=\"1\" class=\"dataframe\">\n",
       "  <thead>\n",
       "    <tr style=\"text-align: right;\">\n",
       "      <th></th>\n",
       "      <th>title</th>\n",
       "      <th>fact</th>\n",
       "      <th>title_words</th>\n",
       "      <th>fact_words</th>\n",
       "    </tr>\n",
       "  </thead>\n",
       "  <tbody>\n",
       "    <tr>\n",
       "      <th>0</th>\n",
       "      <td>#-9-0 Phone Scam</td>\n",
       "      <td>Pressing #-9-0 on your telephone will allow scammers to make long-distance calls and charge them to  your phone bill.</td>\n",
       "      <td>[9, 0, Phone, Scam]</td>\n",
       "      <td>[Pressing, 9, 0, on, your, telephone, will, allow, scammers, to, make, long-distance, calls, and, charge, them, to, your, phone, bill, .]</td>\n",
       "    </tr>\n",
       "    <tr>\n",
       "      <th>1</th>\n",
       "      <td>#Boycott36: Do Clinton and Sanders Support Late-Term Abortions?</td>\n",
       "      <td>Bernie Sanders and Hillary Clinton both seek an abortion 'cutoff date' of 36 weeks, and both claim that late-stage fetuses feel no pain and have no rights.</td>\n",
       "      <td>[Boycott36, :, Do, Clinton, and, Sanders, Support, Late-Term, Abortions, ?]</td>\n",
       "      <td>[Bernie, Sanders, and, Hillary, Clinton, both, seek, an, abortion, ', cutoff, date, ', of, 36, weeks, ,, and, both, claim, that, late-stage, fetuses, feel, no, pain, and, have, no, rights, .]</td>\n",
       "    </tr>\n",
       "    <tr>\n",
       "      <th>2</th>\n",
       "      <td>$1 McDonald's Any Size Fries</td>\n",
       "      <td>McDonald’s restaurants are offering $1 Any Size Fries between May 18 and 31.</td>\n",
       "      <td>[1, McDonald's, Any, Size, Fries]</td>\n",
       "      <td>[McDonald, s, restaurants, are, offering, 1, Any, Size, Fries, between, May, 18, and, 31, .]</td>\n",
       "    </tr>\n",
       "    <tr>\n",
       "      <th>3</th>\n",
       "      <td>$1 Real Chicken Deal Boston Market Coupon</td>\n",
       "      <td>Boston Market is offering coupons good for a $1 chicken meal.</td>\n",
       "      <td>[1, Real, Chicken, Deal, Boston, Market, Coupon]</td>\n",
       "      <td>[Boston, Market, is, offering, coupons, good, for, a, 1, chicken, meal, .]</td>\n",
       "    </tr>\n",
       "    <tr>\n",
       "      <th>4</th>\n",
       "      <td>$10 Bill Printing Error</td>\n",
       "      <td>New U.S. $10 bills released in 2006 contain a printing error.</td>\n",
       "      <td>[10, Bill, Printing, Error]</td>\n",
       "      <td>[New, U.S., 10, bills, released, in, 2006, contain, a, printing, error, .]</td>\n",
       "    </tr>\n",
       "  </tbody>\n",
       "</table>\n",
       "</div>"
      ],
      "text/plain": [
       "                                                             title  \\\n",
       "0                                                 #-9-0 Phone Scam   \n",
       "1  #Boycott36: Do Clinton and Sanders Support Late-Term Abortions?   \n",
       "2                                     $1 McDonald's Any Size Fries   \n",
       "3                        $1 Real Chicken Deal Boston Market Coupon   \n",
       "4                                          $10 Bill Printing Error   \n",
       "\n",
       "                                                                                                                                                          fact  \\\n",
       "0                                        Pressing #-9-0 on your telephone will allow scammers to make long-distance calls and charge them to  your phone bill.   \n",
       "1  Bernie Sanders and Hillary Clinton both seek an abortion 'cutoff date' of 36 weeks, and both claim that late-stage fetuses feel no pain and have no rights.   \n",
       "2                                                                                 McDonald’s restaurants are offering $1 Any Size Fries between May 18 and 31.   \n",
       "3                                                                                                Boston Market is offering coupons good for a $1 chicken meal.   \n",
       "4                                                                                                New U.S. $10 bills released in 2006 contain a printing error.   \n",
       "\n",
       "                                                                   title_words  \\\n",
       "0                                                          [9, 0, Phone, Scam]   \n",
       "1  [Boycott36, :, Do, Clinton, and, Sanders, Support, Late-Term, Abortions, ?]   \n",
       "2                                            [1, McDonald's, Any, Size, Fries]   \n",
       "3                             [1, Real, Chicken, Deal, Boston, Market, Coupon]   \n",
       "4                                                  [10, Bill, Printing, Error]   \n",
       "\n",
       "                                                                                                                                                                                        fact_words  \n",
       "0                                                        [Pressing, 9, 0, on, your, telephone, will, allow, scammers, to, make, long-distance, calls, and, charge, them, to, your, phone, bill, .]  \n",
       "1  [Bernie, Sanders, and, Hillary, Clinton, both, seek, an, abortion, ', cutoff, date, ', of, 36, weeks, ,, and, both, claim, that, late-stage, fetuses, feel, no, pain, and, have, no, rights, .]  \n",
       "2                                                                                                     [McDonald, s, restaurants, are, offering, 1, Any, Size, Fries, between, May, 18, and, 31, .]  \n",
       "3                                                                                                                       [Boston, Market, is, offering, coupons, good, for, a, 1, chicken, meal, .]  \n",
       "4                                                                                                                       [New, U.S., 10, bills, released, in, 2006, contain, a, printing, error, .]  "
      ]
     },
     "execution_count": 10,
     "metadata": {},
     "output_type": "execute_result"
    }
   ],
   "source": [
    "verified_df.head()"
   ]
  },
  {
   "cell_type": "markdown",
   "metadata": {},
   "source": [
    "## query-verified 数据对应"
   ]
  },
  {
   "cell_type": "code",
   "execution_count": 11,
   "metadata": {
    "ExecuteTime": {
     "end_time": "2020-08-27T03:25:33.178663Z",
     "start_time": "2020-08-27T03:25:32.394037Z"
    }
   },
   "outputs": [
    {
     "data": {
      "text/plain": [
       "999"
      ]
     },
     "execution_count": 11,
     "metadata": {},
     "output_type": "execute_result"
    }
   ],
   "source": [
    "pairs_index = []\n",
    "for fact in query_df['fact'].tolist():\n",
    "    qdf = verified_df[verified_df['fact'] == fact]\n",
    "    pairs_index.append(qdf.index.tolist())\n",
    "    \n",
    "len(pairs_index)"
   ]
  },
  {
   "cell_type": "code",
   "execution_count": 12,
   "metadata": {
    "ExecuteTime": {
     "end_time": "2020-08-27T03:25:33.184561Z",
     "start_time": "2020-08-27T03:25:33.180404Z"
    }
   },
   "outputs": [
    {
     "name": "stdout",
     "output_type": "stream",
     "text": [
      "[2740, 3028]\n",
      "[2740, 3028]\n",
      "[2740, 3028]\n"
     ]
    }
   ],
   "source": [
    "for pairs in pairs_index:\n",
    "    if len(pairs) != 1:\n",
    "        print(pairs)"
   ]
  },
  {
   "cell_type": "code",
   "execution_count": 13,
   "metadata": {
    "ExecuteTime": {
     "end_time": "2020-08-27T03:25:33.685466Z",
     "start_time": "2020-08-27T03:25:33.679418Z"
    }
   },
   "outputs": [],
   "source": [
    "query_df['verified_index'] = pairs_index"
   ]
  },
  {
   "cell_type": "code",
   "execution_count": 14,
   "metadata": {
    "ExecuteTime": {
     "end_time": "2020-08-27T03:25:34.787290Z",
     "start_time": "2020-08-27T03:25:34.766836Z"
    }
   },
   "outputs": [
    {
     "data": {
      "text/html": [
       "<div>\n",
       "<style scoped>\n",
       "    .dataframe tbody tr th:only-of-type {\n",
       "        vertical-align: middle;\n",
       "    }\n",
       "\n",
       "    .dataframe tbody tr th {\n",
       "        vertical-align: top;\n",
       "    }\n",
       "\n",
       "    .dataframe thead th {\n",
       "        text-align: right;\n",
       "    }\n",
       "</style>\n",
       "<table border=\"1\" class=\"dataframe\">\n",
       "  <thead>\n",
       "    <tr style=\"text-align: right;\">\n",
       "      <th></th>\n",
       "      <th>claim</th>\n",
       "      <th>fact</th>\n",
       "      <th>claim_words</th>\n",
       "      <th>verified_index</th>\n",
       "    </tr>\n",
       "  </thead>\n",
       "  <tbody>\n",
       "    <tr>\n",
       "      <th>0</th>\n",
       "      <td>How are butterflies surviving the #AustralianFires? Julie Favell was putting out water for wildlife that survived the fires when she witnessed common brown butterflies (Heteronympha merope) fluttering in a moist wombat hole. Footage by Julie Favell pic.twitter.com/0eJtwJyS1J — Center for Bio Div (@CenterForBioDiv) January 14, 2020</td>\n",
       "      <td>Wombats are herding animals and inviting them into their burrows in order to escape the wildfires in Australia.</td>\n",
       "      <td>[How, are, butterflies, surviving, the, AustralianFires, ?, Julie, Favell, was, putting, out, water, for, wildlife, that, survived, the, fires, when, she, witnessed, common, brown, butterflies, (, Heteronympha, merope, ), fluttering, in, a, moist, wombat, hole, ., Footage, by, Julie, Favell, pic, ., twitter, ., com, 0, eJtwJyS1J, Center, for, Bio, Div, (, January, 14, ,, 2020]</td>\n",
       "      <td>[563]</td>\n",
       "    </tr>\n",
       "    <tr>\n",
       "      <th>1</th>\n",
       "      <td>Trump needs to immediately divest from his businesses and comply with the emoluments clause. Iran could threaten Trump hotels *worldwide* and he could provoke war over the loss of revenue from skittish guests.  His business interests should not be driving military decisions. — Ilhan Omar (@IlhanMN) January 6, 2020</td>\n",
       "      <td>In January 2020, U.S. Rep. Ilhan Omar advised Iran to attack Trump-branded hotels in the world, thus committing treason.</td>\n",
       "      <td>[Trump, needs, to, immediately, divest, from, his, businesses, and, comply, with, the, emoluments, clause, ., Iran, could, threaten, Trump, hotels, worldwide, and, he, could, provoke, war, over, the, loss, of, revenue, from, skittish, guests, ., His, business, interests, should, not, be, driving, military, decisions, ., Ilhan, Omar, (, January, 6, ,, 2020]</td>\n",
       "      <td>[7346]</td>\n",
       "    </tr>\n",
       "    <tr>\n",
       "      <th>2</th>\n",
       "      <td>A number of fraudulent text messages informing individuals they have been selected for a military draft have circulated throughout the country this week.</td>\n",
       "      <td>The U.S. Army is sending text messages informing people they've been selected for the military draft.</td>\n",
       "      <td>[A, number, of, fraudulent, text, messages, informing, individuals, they, have, been, selected, for, a, military, draft, have, circulated, throughout, the, country, this, week, .]</td>\n",
       "      <td>[6074]</td>\n",
       "    </tr>\n",
       "    <tr>\n",
       "      <th>3</th>\n",
       "      <td>Fact check: The U.S. Army is NOT contacting anyone regarding the draft. If you are receiving texts, phone calls or direct messages about a military draft, they are not official communications from the U.S. Army pic.twitter.com/3S32De8ekP — U.S. Army CGSC (@USACGSC) January 8, 2020</td>\n",
       "      <td>The U.S. Army is sending text messages informing people they've been selected for the military draft.</td>\n",
       "      <td>[Fact, check, :, The, U.S., Army, is, NOT, contacting, anyone, regarding, the, draft, ., If, you, are, receiving, texts, ,, phone, calls, or, direct, messages, about, a, military, draft, ,, they, are, not, official, communications, from, the, U.S., Army, pic, ., twitter, ., com, 3, S32De8ekP, U.S., Army, CGSC, (, January, 8, ,, 2020]</td>\n",
       "      <td>[6074]</td>\n",
       "    </tr>\n",
       "    <tr>\n",
       "      <th>4</th>\n",
       "      <td>The US drone attack on #Soleimani caught on camera.#IranUsapic.twitter.com/TvRkHvlgby — Olaudah Equiano® (@RealOlaudah) January 6, 2020</td>\n",
       "      <td>A video shows the U.S.-ordered drone strike that killed Iran Gen. Qassem Soleimani.</td>\n",
       "      <td>[The, US, drone, attack, on, Soleimani, caught, on, camera, ., IranUsapic, ., twitter, ., com, TvRkHvlgby, Olaudah, Equiano, (, January, 6, ,, 2020]</td>\n",
       "      <td>[4142]</td>\n",
       "    </tr>\n",
       "  </tbody>\n",
       "</table>\n",
       "</div>"
      ],
      "text/plain": [
       "                                                                                                                                                                                                                                                                                                                                          claim  \\\n",
       "0  How are butterflies surviving the #AustralianFires? Julie Favell was putting out water for wildlife that survived the fires when she witnessed common brown butterflies (Heteronympha merope) fluttering in a moist wombat hole. Footage by Julie Favell pic.twitter.com/0eJtwJyS1J — Center for Bio Div (@CenterForBioDiv) January 14, 2020   \n",
       "1                   Trump needs to immediately divest from his businesses and comply with the emoluments clause. Iran could threaten Trump hotels *worldwide* and he could provoke war over the loss of revenue from skittish guests.  His business interests should not be driving military decisions. — Ilhan Omar (@IlhanMN) January 6, 2020   \n",
       "2                                                                                                                                                                                     A number of fraudulent text messages informing individuals they have been selected for a military draft have circulated throughout the country this week.   \n",
       "3                                                     Fact check: The U.S. Army is NOT contacting anyone regarding the draft. If you are receiving texts, phone calls or direct messages about a military draft, they are not official communications from the U.S. Army pic.twitter.com/3S32De8ekP — U.S. Army CGSC (@USACGSC) January 8, 2020   \n",
       "4                                                                                                                                                                                                       The US drone attack on #Soleimani caught on camera.#IranUsapic.twitter.com/TvRkHvlgby — Olaudah Equiano® (@RealOlaudah) January 6, 2020   \n",
       "\n",
       "                                                                                                                       fact  \\\n",
       "0           Wombats are herding animals and inviting them into their burrows in order to escape the wildfires in Australia.   \n",
       "1  In January 2020, U.S. Rep. Ilhan Omar advised Iran to attack Trump-branded hotels in the world, thus committing treason.   \n",
       "2                     The U.S. Army is sending text messages informing people they've been selected for the military draft.   \n",
       "3                     The U.S. Army is sending text messages informing people they've been selected for the military draft.   \n",
       "4                                       A video shows the U.S.-ordered drone strike that killed Iran Gen. Qassem Soleimani.   \n",
       "\n",
       "                                                                                                                                                                                                                                                                                                                                                                                   claim_words  \\\n",
       "0  [How, are, butterflies, surviving, the, AustralianFires, ?, Julie, Favell, was, putting, out, water, for, wildlife, that, survived, the, fires, when, she, witnessed, common, brown, butterflies, (, Heteronympha, merope, ), fluttering, in, a, moist, wombat, hole, ., Footage, by, Julie, Favell, pic, ., twitter, ., com, 0, eJtwJyS1J, Center, for, Bio, Div, (, January, 14, ,, 2020]   \n",
       "1                       [Trump, needs, to, immediately, divest, from, his, businesses, and, comply, with, the, emoluments, clause, ., Iran, could, threaten, Trump, hotels, worldwide, and, he, could, provoke, war, over, the, loss, of, revenue, from, skittish, guests, ., His, business, interests, should, not, be, driving, military, decisions, ., Ilhan, Omar, (, January, 6, ,, 2020]   \n",
       "2                                                                                                                                                                                                          [A, number, of, fraudulent, text, messages, informing, individuals, they, have, been, selected, for, a, military, draft, have, circulated, throughout, the, country, this, week, .]   \n",
       "3                                              [Fact, check, :, The, U.S., Army, is, NOT, contacting, anyone, regarding, the, draft, ., If, you, are, receiving, texts, ,, phone, calls, or, direct, messages, about, a, military, draft, ,, they, are, not, official, communications, from, the, U.S., Army, pic, ., twitter, ., com, 3, S32De8ekP, U.S., Army, CGSC, (, January, 8, ,, 2020]   \n",
       "4                                                                                                                                                                                                                                         [The, US, drone, attack, on, Soleimani, caught, on, camera, ., IranUsapic, ., twitter, ., com, TvRkHvlgby, Olaudah, Equiano, (, January, 6, ,, 2020]   \n",
       "\n",
       "  verified_index  \n",
       "0          [563]  \n",
       "1         [7346]  \n",
       "2         [6074]  \n",
       "3         [6074]  \n",
       "4         [4142]  "
      ]
     },
     "execution_count": 14,
     "metadata": {},
     "output_type": "execute_result"
    }
   ],
   "source": [
    "query_df.head()"
   ]
  },
  {
   "cell_type": "markdown",
   "metadata": {
    "ExecuteTime": {
     "end_time": "2020-08-27T03:24:11.636831Z",
     "start_time": "2020-08-27T03:24:11.628331Z"
    }
   },
   "source": [
    "## Dataframe -> json"
   ]
  },
  {
   "cell_type": "code",
   "execution_count": 21,
   "metadata": {
    "ExecuteTime": {
     "end_time": "2020-08-27T03:33:19.705148Z",
     "start_time": "2020-08-27T03:33:19.695684Z"
    }
   },
   "outputs": [],
   "source": [
    "def transfer(df):\n",
    "    cols = df.columns.tolist()\n",
    "    \n",
    "    values = dict()\n",
    "    for c in cols:\n",
    "        values[c] = df[c].tolist()\n",
    "    \n",
    "    df_list = []\n",
    "    for i in range(len(values[cols[0]])):\n",
    "        items = dict()\n",
    "        for c in cols:\n",
    "            items[c] = values[c][i]\n",
    "        df_list.append(items)\n",
    "    \n",
    "    return df_list"
   ]
  },
  {
   "cell_type": "code",
   "execution_count": 24,
   "metadata": {
    "ExecuteTime": {
     "end_time": "2020-08-27T03:34:00.561189Z",
     "start_time": "2020-08-27T03:34:00.535376Z"
    }
   },
   "outputs": [
    {
     "data": {
      "text/plain": [
       "(999, 10381)"
      ]
     },
     "execution_count": 24,
     "metadata": {},
     "output_type": "execute_result"
    }
   ],
   "source": [
    "query_json = transfer(query_df)\n",
    "verified_json = transfer(verified_df)\n",
    "\n",
    "len(query_json), len(verified_json)"
   ]
  },
  {
   "cell_type": "code",
   "execution_count": 26,
   "metadata": {
    "ExecuteTime": {
     "end_time": "2020-08-27T03:35:16.793159Z",
     "start_time": "2020-08-27T03:35:16.537456Z"
    }
   },
   "outputs": [],
   "source": [
    "with open('./query_{}.json'.format(len(query_json)), 'w') as f:\n",
    "    json.dump(query_json, f, indent=4)\n",
    "\n",
    "with open('./verified_{}.json'.format(len(verified_json)), 'w') as f:\n",
    "    json.dump(verified_json, f, indent=4)"
   ]
  },
  {
   "cell_type": "markdown",
   "metadata": {},
   "source": [
    "# BM25 检索"
   ]
  },
  {
   "cell_type": "code",
   "execution_count": 1,
   "metadata": {
    "ExecuteTime": {
     "end_time": "2020-08-28T02:40:30.029280Z",
     "start_time": "2020-08-28T02:40:28.778143Z"
    }
   },
   "outputs": [],
   "source": [
    "from gensim.summarization import bm25\n",
    "import numpy as np\n",
    "import json"
   ]
  },
  {
   "cell_type": "code",
   "execution_count": 2,
   "metadata": {
    "ExecuteTime": {
     "end_time": "2020-08-28T02:40:30.288682Z",
     "start_time": "2020-08-28T02:40:30.032092Z"
    }
   },
   "outputs": [
    {
     "data": {
      "text/plain": [
       "(999, 10381)"
      ]
     },
     "execution_count": 2,
     "metadata": {},
     "output_type": "execute_result"
    }
   ],
   "source": [
    "with open('./query_999.json', 'r') as f:\n",
    "    queries = json.load(f)\n",
    "with open('./verified_10381.json', 'r') as f:\n",
    "    facts = json.load(f)\n",
    "    \n",
    "len(queries), len(facts)"
   ]
  },
  {
   "cell_type": "code",
   "execution_count": 3,
   "metadata": {
    "ExecuteTime": {
     "end_time": "2020-08-28T02:40:30.792075Z",
     "start_time": "2020-08-28T02:40:30.789150Z"
    }
   },
   "outputs": [],
   "source": [
    "# print(queries[100]['claim'], '\\n')\n",
    "# facts[queries[100]['verified_index'][0]]"
   ]
  },
  {
   "cell_type": "code",
   "execution_count": 4,
   "metadata": {
    "ExecuteTime": {
     "end_time": "2020-08-28T02:40:31.171521Z",
     "start_time": "2020-08-28T02:40:31.165835Z"
    }
   },
   "outputs": [
    {
     "data": {
      "text/plain": [
       "(dict_keys(['claim', 'fact', 'claim_words', 'verified_index']),\n",
       " dict_keys(['title', 'fact', 'title_words', 'fact_words']))"
      ]
     },
     "execution_count": 4,
     "metadata": {},
     "output_type": "execute_result"
    }
   ],
   "source": [
    "queries[0].keys(), facts[0].keys()"
   ]
  },
  {
   "cell_type": "code",
   "execution_count": 5,
   "metadata": {
    "ExecuteTime": {
     "end_time": "2020-08-28T02:40:31.567531Z",
     "start_time": "2020-08-28T02:40:31.563045Z"
    }
   },
   "outputs": [
    {
     "data": {
      "text/plain": [
       "999"
      ]
     },
     "execution_count": 5,
     "metadata": {},
     "output_type": "execute_result"
    }
   ],
   "source": [
    "search_words = [q['claim_words'] for q in queries]\n",
    "len(search_words)"
   ]
  },
  {
   "cell_type": "code",
   "execution_count": 6,
   "metadata": {
    "ExecuteTime": {
     "end_time": "2020-08-28T02:40:31.991171Z",
     "start_time": "2020-08-28T02:40:31.985393Z"
    }
   },
   "outputs": [
    {
     "data": {
      "text/plain": [
       "'How are butterflies surviving the AustralianFires ? Julie Favell was putting out water for wildlife that survived the fires when she witnessed common brown butterflies ( Heteronympha merope ) fluttering in a moist wombat hole . Footage by Julie Favell pic . twitter . com 0 eJtwJyS1J Center for Bio Div ( January 14 , 2020'"
      ]
     },
     "execution_count": 6,
     "metadata": {},
     "output_type": "execute_result"
    }
   ],
   "source": [
    "' '.join(search_words[0])"
   ]
  },
  {
   "cell_type": "code",
   "execution_count": 7,
   "metadata": {
    "ExecuteTime": {
     "end_time": "2020-08-28T02:40:32.339452Z",
     "start_time": "2020-08-28T02:40:32.333366Z"
    }
   },
   "outputs": [
    {
     "data": {
      "text/plain": [
       "999"
      ]
     },
     "execution_count": 7,
     "metadata": {},
     "output_type": "execute_result"
    }
   ],
   "source": [
    "ground_truth = [q['verified_index'] for q in queries]\n",
    "len(ground_truth)"
   ]
  },
  {
   "cell_type": "code",
   "execution_count": 8,
   "metadata": {
    "ExecuteTime": {
     "end_time": "2020-08-28T02:40:32.705246Z",
     "start_time": "2020-08-28T02:40:32.701406Z"
    }
   },
   "outputs": [
    {
     "data": {
      "text/plain": [
       "[563]"
      ]
     },
     "execution_count": 8,
     "metadata": {},
     "output_type": "execute_result"
    }
   ],
   "source": [
    "ground_truth[0]"
   ]
  },
  {
   "cell_type": "markdown",
   "metadata": {},
   "source": [
    "## Title"
   ]
  },
  {
   "cell_type": "code",
   "execution_count": 9,
   "metadata": {
    "ExecuteTime": {
     "end_time": "2020-08-28T02:40:33.573744Z",
     "start_time": "2020-08-28T02:40:33.565200Z"
    }
   },
   "outputs": [
    {
     "data": {
      "text/plain": [
       "'#-9-0 Phone Scam'"
      ]
     },
     "execution_count": 9,
     "metadata": {},
     "output_type": "execute_result"
    }
   ],
   "source": [
    "facts[0]['title']"
   ]
  },
  {
   "cell_type": "code",
   "execution_count": 10,
   "metadata": {
    "ExecuteTime": {
     "end_time": "2020-08-28T02:40:33.976951Z",
     "start_time": "2020-08-28T02:40:33.965734Z"
    }
   },
   "outputs": [
    {
     "data": {
      "text/plain": [
       "10381"
      ]
     },
     "execution_count": 10,
     "metadata": {},
     "output_type": "execute_result"
    }
   ],
   "source": [
    "corpus = [f['title_words'] for f in facts]\n",
    "len(corpus)"
   ]
  },
  {
   "cell_type": "code",
   "execution_count": 11,
   "metadata": {
    "ExecuteTime": {
     "end_time": "2020-08-28T02:40:34.582811Z",
     "start_time": "2020-08-28T02:40:34.409214Z"
    }
   },
   "outputs": [],
   "source": [
    "bm_model = bm25.BM25(corpus)"
   ]
  },
  {
   "cell_type": "code",
   "execution_count": 12,
   "metadata": {
    "ExecuteTime": {
     "end_time": "2020-08-28T02:41:22.931847Z",
     "start_time": "2020-08-28T02:40:34.748743Z"
    }
   },
   "outputs": [],
   "source": [
    "bm_results = []\n",
    "for i, search in enumerate(search_words):\n",
    "    scores = np.array(bm_model.get_scores(search))\n",
    "    ranks = scores.argsort()[::-1]\n",
    "\n",
    "    result = []\n",
    "    for gt in ground_truth[i]:\n",
    "        result.append(np.where(ranks == gt)[0][0])\n",
    "\n",
    "    bm_results.append(result)"
   ]
  },
  {
   "cell_type": "code",
   "execution_count": 24,
   "metadata": {
    "ExecuteTime": {
     "end_time": "2020-08-28T02:43:18.931133Z",
     "start_time": "2020-08-28T02:43:18.926022Z"
    }
   },
   "outputs": [
    {
     "data": {
      "text/plain": [
       "[[6094], [0], [3782], [46], [245]]"
      ]
     },
     "execution_count": 24,
     "metadata": {},
     "output_type": "execute_result"
    }
   ],
   "source": [
    "bm_results[:5]"
   ]
  },
  {
   "cell_type": "code",
   "execution_count": 27,
   "metadata": {
    "ExecuteTime": {
     "end_time": "2020-08-28T02:45:31.543139Z",
     "start_time": "2020-08-28T02:45:31.538895Z"
    }
   },
   "outputs": [],
   "source": [
    "for i, q in enumerate(queries):\n",
    "    q['bm25_rank_title'] = bm_results[i]"
   ]
  },
  {
   "cell_type": "code",
   "execution_count": 29,
   "metadata": {
    "ExecuteTime": {
     "end_time": "2020-08-28T02:45:49.922845Z",
     "start_time": "2020-08-28T02:45:49.919545Z"
    }
   },
   "outputs": [],
   "source": [
    "# queries[0]"
   ]
  },
  {
   "cell_type": "markdown",
   "metadata": {},
   "source": [
    "## VerClaim"
   ]
  },
  {
   "cell_type": "code",
   "execution_count": 31,
   "metadata": {
    "ExecuteTime": {
     "end_time": "2020-08-28T02:46:23.013103Z",
     "start_time": "2020-08-28T02:46:23.006581Z"
    }
   },
   "outputs": [
    {
     "data": {
      "text/plain": [
       "['Pressing',\n",
       " '9',\n",
       " '0',\n",
       " 'on',\n",
       " 'your',\n",
       " 'telephone',\n",
       " 'will',\n",
       " 'allow',\n",
       " 'scammers',\n",
       " 'to',\n",
       " 'make',\n",
       " 'long-distance',\n",
       " 'calls',\n",
       " 'and',\n",
       " 'charge',\n",
       " 'them',\n",
       " 'to',\n",
       " 'your',\n",
       " 'phone',\n",
       " 'bill',\n",
       " '.']"
      ]
     },
     "execution_count": 31,
     "metadata": {},
     "output_type": "execute_result"
    }
   ],
   "source": [
    "facts[0]['fact_words']"
   ]
  },
  {
   "cell_type": "code",
   "execution_count": 32,
   "metadata": {
    "ExecuteTime": {
     "end_time": "2020-08-28T02:46:32.902815Z",
     "start_time": "2020-08-28T02:46:32.893572Z"
    }
   },
   "outputs": [
    {
     "data": {
      "text/plain": [
       "10381"
      ]
     },
     "execution_count": 32,
     "metadata": {},
     "output_type": "execute_result"
    }
   ],
   "source": [
    "corpus = [f['fact_words'] for f in facts]\n",
    "len(corpus)"
   ]
  },
  {
   "cell_type": "code",
   "execution_count": 33,
   "metadata": {
    "ExecuteTime": {
     "end_time": "2020-08-28T02:46:38.182910Z",
     "start_time": "2020-08-28T02:46:37.940826Z"
    }
   },
   "outputs": [],
   "source": [
    "bm_model = bm25.BM25(corpus)"
   ]
  },
  {
   "cell_type": "code",
   "execution_count": 34,
   "metadata": {
    "ExecuteTime": {
     "end_time": "2020-08-28T02:47:55.711349Z",
     "start_time": "2020-08-28T02:46:43.288520Z"
    }
   },
   "outputs": [],
   "source": [
    "bm_results = []\n",
    "for i, search in enumerate(search_words):\n",
    "    scores = np.array(bm_model.get_scores(search))\n",
    "    ranks = scores.argsort()[::-1]\n",
    "\n",
    "    result = []\n",
    "    for gt in ground_truth[i]:\n",
    "        result.append(np.where(ranks == gt)[0][0])\n",
    "\n",
    "    bm_results.append(result)"
   ]
  },
  {
   "cell_type": "code",
   "execution_count": 37,
   "metadata": {
    "ExecuteTime": {
     "end_time": "2020-08-28T02:48:14.029341Z",
     "start_time": "2020-08-28T02:48:14.023370Z"
    }
   },
   "outputs": [
    {
     "data": {
      "text/plain": [
       "[[2473], [0], [0], [0], [0]]"
      ]
     },
     "execution_count": 37,
     "metadata": {},
     "output_type": "execute_result"
    }
   ],
   "source": [
    "bm_results[:5]"
   ]
  },
  {
   "cell_type": "code",
   "execution_count": 38,
   "metadata": {
    "ExecuteTime": {
     "end_time": "2020-08-28T02:48:22.349678Z",
     "start_time": "2020-08-28T02:48:22.340261Z"
    }
   },
   "outputs": [],
   "source": [
    "for i, q in enumerate(queries):\n",
    "    q['bm25_rank_verclaim'] = bm_results[i]"
   ]
  },
  {
   "cell_type": "code",
   "execution_count": 40,
   "metadata": {
    "ExecuteTime": {
     "end_time": "2020-08-28T02:48:38.075532Z",
     "start_time": "2020-08-28T02:48:38.068740Z"
    }
   },
   "outputs": [],
   "source": [
    "# queries[0]"
   ]
  },
  {
   "cell_type": "markdown",
   "metadata": {},
   "source": [
    "## Title + VerClaim"
   ]
  },
  {
   "cell_type": "code",
   "execution_count": 42,
   "metadata": {
    "ExecuteTime": {
     "end_time": "2020-08-28T02:49:09.719670Z",
     "start_time": "2020-08-28T02:49:09.708343Z"
    }
   },
   "outputs": [
    {
     "data": {
      "text/plain": [
       "['9',\n",
       " '0',\n",
       " 'Phone',\n",
       " 'Scam',\n",
       " 'Pressing',\n",
       " '9',\n",
       " '0',\n",
       " 'on',\n",
       " 'your',\n",
       " 'telephone',\n",
       " 'will',\n",
       " 'allow',\n",
       " 'scammers',\n",
       " 'to',\n",
       " 'make',\n",
       " 'long-distance',\n",
       " 'calls',\n",
       " 'and',\n",
       " 'charge',\n",
       " 'them',\n",
       " 'to',\n",
       " 'your',\n",
       " 'phone',\n",
       " 'bill',\n",
       " '.']"
      ]
     },
     "execution_count": 42,
     "metadata": {},
     "output_type": "execute_result"
    }
   ],
   "source": [
    "facts[0]['title_words']+facts[0]['fact_words']"
   ]
  },
  {
   "cell_type": "code",
   "execution_count": 43,
   "metadata": {
    "ExecuteTime": {
     "end_time": "2020-08-28T02:49:25.308229Z",
     "start_time": "2020-08-28T02:49:25.272223Z"
    }
   },
   "outputs": [
    {
     "data": {
      "text/plain": [
       "10381"
      ]
     },
     "execution_count": 43,
     "metadata": {},
     "output_type": "execute_result"
    }
   ],
   "source": [
    "corpus = [f['title_words']+f['fact_words'] for f in facts]\n",
    "len(corpus)"
   ]
  },
  {
   "cell_type": "code",
   "execution_count": 44,
   "metadata": {
    "ExecuteTime": {
     "end_time": "2020-08-28T02:49:34.638589Z",
     "start_time": "2020-08-28T02:49:34.247921Z"
    }
   },
   "outputs": [],
   "source": [
    "bm_model = bm25.BM25(corpus)"
   ]
  },
  {
   "cell_type": "code",
   "execution_count": 45,
   "metadata": {
    "ExecuteTime": {
     "end_time": "2020-08-28T02:50:47.777594Z",
     "start_time": "2020-08-28T02:49:35.880581Z"
    }
   },
   "outputs": [],
   "source": [
    "bm_results = []\n",
    "for i, search in enumerate(search_words):\n",
    "    scores = np.array(bm_model.get_scores(search))\n",
    "    ranks = scores.argsort()[::-1]\n",
    "\n",
    "    result = []\n",
    "    for gt in ground_truth[i]:\n",
    "        result.append(np.where(ranks == gt)[0][0])\n",
    "\n",
    "    bm_results.append(result)"
   ]
  },
  {
   "cell_type": "code",
   "execution_count": 46,
   "metadata": {
    "ExecuteTime": {
     "end_time": "2020-08-28T02:50:47.783726Z",
     "start_time": "2020-08-28T02:50:47.779651Z"
    }
   },
   "outputs": [
    {
     "data": {
      "text/plain": [
       "[[4703], [0], [0], [0], [0]]"
      ]
     },
     "execution_count": 46,
     "metadata": {},
     "output_type": "execute_result"
    }
   ],
   "source": [
    "bm_results[:5]"
   ]
  },
  {
   "cell_type": "code",
   "execution_count": 47,
   "metadata": {
    "ExecuteTime": {
     "end_time": "2020-08-28T02:50:47.801332Z",
     "start_time": "2020-08-28T02:50:47.784984Z"
    }
   },
   "outputs": [],
   "source": [
    "for i, q in enumerate(queries):\n",
    "    q['bm25_rank_verclaim+title'] = bm_results[i]"
   ]
  },
  {
   "cell_type": "code",
   "execution_count": 52,
   "metadata": {
    "ExecuteTime": {
     "end_time": "2020-08-28T02:53:18.029755Z",
     "start_time": "2020-08-28T02:53:18.026905Z"
    }
   },
   "outputs": [],
   "source": [
    "# queries[2]"
   ]
  },
  {
   "cell_type": "markdown",
   "metadata": {},
   "source": [
    "## 结果导出"
   ]
  },
  {
   "cell_type": "code",
   "execution_count": 58,
   "metadata": {
    "ExecuteTime": {
     "end_time": "2020-08-28T02:57:51.402649Z",
     "start_time": "2020-08-28T02:57:51.387198Z"
    }
   },
   "outputs": [],
   "source": [
    "for q in queries:\n",
    "#     del q['claim_words']\n",
    "    for k in ['bm25_rank_title', 'bm25_rank_verclaim', 'bm25_rank_verclaim+title']:\n",
    "        q[k] = [int(v) for v in q[k]]"
   ]
  },
  {
   "cell_type": "code",
   "execution_count": 59,
   "metadata": {
    "ExecuteTime": {
     "end_time": "2020-08-28T02:57:51.969772Z",
     "start_time": "2020-08-28T02:57:51.964082Z"
    }
   },
   "outputs": [
    {
     "data": {
      "text/plain": [
       "{'claim': 'How are butterflies surviving the #AustralianFires? Julie Favell was putting out water for wildlife that survived the fires when she witnessed common brown butterflies (Heteronympha merope) fluttering in a moist wombat hole. Footage by Julie Favell pic.twitter.com/0eJtwJyS1J — Center for Bio Div (@CenterForBioDiv) January 14, 2020',\n",
       " 'fact': 'Wombats are herding animals and inviting them into their burrows in order to escape the wildfires in Australia.',\n",
       " 'verified_index': [563],\n",
       " 'bm25_rank_title': [6094],\n",
       " 'bm25_rank_verclaim': [2473],\n",
       " 'bm25_rank_verclaim+title': [4703]}"
      ]
     },
     "execution_count": 59,
     "metadata": {},
     "output_type": "execute_result"
    }
   ],
   "source": [
    "queries[0]"
   ]
  },
  {
   "cell_type": "code",
   "execution_count": 60,
   "metadata": {
    "ExecuteTime": {
     "end_time": "2020-08-28T02:57:54.837189Z",
     "start_time": "2020-08-28T02:57:54.774039Z"
    }
   },
   "outputs": [],
   "source": [
    "with open('./bm25_results.json', 'w') as f:\n",
    "    json.dump(queries, f, indent=4)"
   ]
  },
  {
   "cell_type": "markdown",
   "metadata": {},
   "source": [
    "# Evaluation"
   ]
  },
  {
   "cell_type": "code",
   "execution_count": 1,
   "metadata": {
    "ExecuteTime": {
     "end_time": "2020-08-28T07:01:41.305530Z",
     "start_time": "2020-08-28T07:01:41.236991Z"
    }
   },
   "outputs": [],
   "source": [
    "import numpy as np\n",
    "import json"
   ]
  },
  {
   "cell_type": "code",
   "execution_count": 2,
   "metadata": {
    "ExecuteTime": {
     "end_time": "2020-08-28T07:01:42.005247Z",
     "start_time": "2020-08-28T07:01:41.983355Z"
    }
   },
   "outputs": [
    {
     "data": {
      "text/plain": [
       "999"
      ]
     },
     "execution_count": 2,
     "metadata": {},
     "output_type": "execute_result"
    }
   ],
   "source": [
    "with open('./bm25_results.json', 'r') as f:\n",
    "    results = json.load(f)\n",
    "    \n",
    "len(results)"
   ]
  },
  {
   "cell_type": "code",
   "execution_count": 3,
   "metadata": {
    "ExecuteTime": {
     "end_time": "2020-08-28T07:01:42.683305Z",
     "start_time": "2020-08-28T07:01:42.677183Z"
    }
   },
   "outputs": [
    {
     "data": {
      "text/plain": [
       "{'claim': 'How are butterflies surviving the #AustralianFires? Julie Favell was putting out water for wildlife that survived the fires when she witnessed common brown butterflies (Heteronympha merope) fluttering in a moist wombat hole. Footage by Julie Favell pic.twitter.com/0eJtwJyS1J — Center for Bio Div (@CenterForBioDiv) January 14, 2020',\n",
       " 'fact': 'Wombats are herding animals and inviting them into their burrows in order to escape the wildfires in Australia.',\n",
       " 'verified_index': [563],\n",
       " 'bm25_rank_title': [6094],\n",
       " 'bm25_rank_verclaim': [2473],\n",
       " 'bm25_rank_verclaim+title': [4703]}"
      ]
     },
     "execution_count": 3,
     "metadata": {},
     "output_type": "execute_result"
    }
   ],
   "source": [
    "results[0]"
   ]
  },
  {
   "cell_type": "code",
   "execution_count": 4,
   "metadata": {
    "ExecuteTime": {
     "end_time": "2020-08-28T07:01:44.114572Z",
     "start_time": "2020-08-28T07:01:44.103491Z"
    }
   },
   "outputs": [
    {
     "data": {
      "text/plain": [
       "(999, 999, 999)"
      ]
     },
     "execution_count": 4,
     "metadata": {},
     "output_type": "execute_result"
    }
   ],
   "source": [
    "ranks_title = [r['bm25_rank_title'] for r in results]\n",
    "ranks_verclaim = [r['bm25_rank_verclaim'] for r in results]\n",
    "ranks_both = [r['bm25_rank_verclaim+title'] for r in results]\n",
    "\n",
    "len(ranks_title), len(ranks_verclaim), len(ranks_both)"
   ]
  },
  {
   "cell_type": "code",
   "execution_count": 5,
   "metadata": {
    "ExecuteTime": {
     "end_time": "2020-08-28T07:01:45.010535Z",
     "start_time": "2020-08-28T07:01:44.996626Z"
    }
   },
   "outputs": [],
   "source": [
    "def MRR(ranks):\n",
    "    assert type(ranks) == list\n",
    "\n",
    "    first_ranks = []\n",
    "    for r in ranks:\n",
    "        first_ranks.append(min(r))\n",
    "\n",
    "    mrr = np.mean([1/(r+1) for r in first_ranks])\n",
    "    return mrr\n",
    "\n",
    "\n",
    "def MAP(ranks, k):\n",
    "    assert type(ranks) == list\n",
    "\n",
    "    APs = []\n",
    "    for rank_results in ranks:\n",
    "        AP = 0\n",
    "        i = 1\n",
    "\n",
    "        rank_results.sort()\n",
    "        for r in rank_results:\n",
    "            if r+1 <= k:\n",
    "                AP += i / (r + 1)\n",
    "                i += 1\n",
    "\n",
    "        AP /= len(rank_results)\n",
    "        APs.append(AP)\n",
    "\n",
    "    return np.mean(APs)\n",
    "\n",
    "\n",
    "def HasPositives(ranks, k):\n",
    "    assert type(ranks) == list\n",
    "\n",
    "    Has = []\n",
    "    for rank_results in ranks:\n",
    "        rank_results.sort()\n",
    "        if rank_results[0] + 1 <= k:\n",
    "            Has.append(1)\n",
    "        else:\n",
    "            Has.append(0)\n",
    "\n",
    "    return np.mean(Has)"
   ]
  },
  {
   "cell_type": "code",
   "execution_count": 6,
   "metadata": {
    "ExecuteTime": {
     "end_time": "2020-08-28T07:01:45.787378Z",
     "start_time": "2020-08-28T07:01:45.776489Z"
    }
   },
   "outputs": [
    {
     "name": "stdout",
     "output_type": "stream",
     "text": [
      "MRR\n",
      "-------------------------\n",
      "IR-Title:\t0.20468404563323714\n",
      "IR-VerClaim:\t0.5473237121863617\n",
      "IR-VerClaim+Title:\t0.6197977745066475\n"
     ]
    }
   ],
   "source": [
    "print('MRR\\n-------------------------')\n",
    "print('IR-Title:\\t{}'.format(MRR(ranks_title)))\n",
    "print('IR-VerClaim:\\t{}'.format(MRR(ranks_verclaim)))\n",
    "print('IR-VerClaim+Title:\\t{}'.format(MRR(ranks_both)))"
   ]
  },
  {
   "cell_type": "code",
   "execution_count": 7,
   "metadata": {
    "ExecuteTime": {
     "end_time": "2020-08-28T07:01:46.370478Z",
     "start_time": "2020-08-28T07:01:46.346852Z"
    }
   },
   "outputs": [
    {
     "name": "stdout",
     "output_type": "stream",
     "text": [
      "\n",
      "MAP@1\n",
      "-----------------------\n",
      "IR-Title:\t0.15265265265265265\n",
      "IR-VerClaim:\t0.46296296296296297\n",
      "IR-VerClaim+Title:\t0.53003003003003\n",
      "\n",
      "MAP@3\n",
      "-----------------------\n",
      "IR-Title:\t0.180347013680347\n",
      "IR-VerClaim:\t0.522022022022022\n",
      "IR-VerClaim+Title:\t0.5972639305972639\n",
      "\n",
      "MAP@5\n",
      "-----------------------\n",
      "IR-Title:\t0.18895562228895563\n",
      "IR-VerClaim:\t0.5335835835835835\n",
      "IR-VerClaim+Title:\t0.6076743410076743\n",
      "\n",
      "MAP@10\n",
      "-----------------------\n",
      "IR-Title:\t0.19600830989719878\n",
      "IR-VerClaim:\t0.5412694440472218\n",
      "IR-VerClaim+Title:\t0.6155341849786294\n",
      "\n",
      "MAP@20\n",
      "-----------------------\n",
      "IR-Title:\t0.2003622460450806\n",
      "IR-VerClaim:\t0.5448288357774081\n",
      "IR-VerClaim+Title:\t0.618109341271106\n",
      "\n",
      "MAP@10381\n",
      "-----------------------\n",
      "IR-Title:\t0.20468726478057028\n",
      "IR-VerClaim:\t0.5473865036470026\n",
      "IR-VerClaim+Title:\t0.6198888377921553\n"
     ]
    }
   ],
   "source": [
    "for k in [1, 3, 5, 10, 20, 10381]:\n",
    "    print('\\nMAP@{}\\n-----------------------'.format(k))\n",
    "    print('IR-Title:\\t{}'.format(MAP(ranks_title, k)))\n",
    "    print('IR-VerClaim:\\t{}'.format(MAP(ranks_verclaim, k)))\n",
    "    print('IR-VerClaim+Title:\\t{}'.format(MAP(ranks_both, k)))"
   ]
  },
  {
   "cell_type": "code",
   "execution_count": 8,
   "metadata": {
    "ExecuteTime": {
     "end_time": "2020-08-28T07:01:46.791286Z",
     "start_time": "2020-08-28T07:01:46.772149Z"
    }
   },
   "outputs": [
    {
     "name": "stdout",
     "output_type": "stream",
     "text": [
      "\n",
      "HasPositives@1\n",
      "-----------------------\n",
      "IR-Title:\t0.15315315315315314\n",
      "IR-VerClaim:\t0.46346346346346345\n",
      "IR-VerClaim+Title:\t0.5305305305305306\n",
      "\n",
      "HasPositives@3\n",
      "-----------------------\n",
      "IR-Title:\t0.21421421421421422\n",
      "IR-VerClaim:\t0.5885885885885885\n",
      "IR-VerClaim+Title:\t0.6716716716716716\n",
      "\n",
      "HasPositives@5\n",
      "-----------------------\n",
      "IR-Title:\t0.25325325325325326\n",
      "IR-VerClaim:\t0.6386386386386387\n",
      "IR-VerClaim+Title:\t0.7177177177177178\n",
      "\n",
      "HasPositives@10\n",
      "-----------------------\n",
      "IR-Title:\t0.30430430430430433\n",
      "IR-VerClaim:\t0.6956956956956957\n",
      "IR-VerClaim+Title:\t0.7747747747747747\n",
      "\n",
      "HasPositives@20\n",
      "-----------------------\n",
      "IR-Title:\t0.3663663663663664\n",
      "IR-VerClaim:\t0.7457457457457457\n",
      "IR-VerClaim+Title:\t0.8098098098098098\n",
      "\n",
      "HasPositives@50\n",
      "-----------------------\n",
      "IR-Title:\t0.43543543543543545\n",
      "IR-VerClaim:\t0.8018018018018018\n",
      "IR-VerClaim+Title:\t0.8408408408408409\n"
     ]
    }
   ],
   "source": [
    "for k in [1, 3, 5, 10, 20, 50]:\n",
    "    print('\\nHasPositives@{}\\n-----------------------'.format(k))\n",
    "    print('IR-Title:\\t{}'.format(HasPositives(ranks_title, k)))\n",
    "    print('IR-VerClaim:\\t{}'.format(HasPositives(ranks_verclaim, k)))\n",
    "    print('IR-VerClaim+Title:\\t{}'.format(HasPositives(ranks_both, k)))"
   ]
  },
  {
   "cell_type": "code",
   "execution_count": null,
   "metadata": {},
   "outputs": [],
   "source": []
  }
 ],
 "metadata": {
  "kernelspec": {
   "display_name": "Python 3",
   "language": "python",
   "name": "python3"
  },
  "language_info": {
   "codemirror_mode": {
    "name": "ipython",
    "version": 3
   },
   "file_extension": ".py",
   "mimetype": "text/x-python",
   "name": "python",
   "nbconvert_exporter": "python",
   "pygments_lexer": "ipython3",
   "version": "3.7.4"
  },
  "toc": {
   "base_numbering": 1,
   "nav_menu": {},
   "number_sections": true,
   "sideBar": true,
   "skip_h1_title": false,
   "title_cell": "Table of Contents",
   "title_sidebar": "Contents",
   "toc_cell": false,
   "toc_position": {},
   "toc_section_display": true,
   "toc_window_display": true
  }
 },
 "nbformat": 4,
 "nbformat_minor": 2
}
